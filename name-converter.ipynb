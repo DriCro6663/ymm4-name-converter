{
 "cells": [
  {
   "cell_type": "code",
   "execution_count": 79,
   "metadata": {},
   "outputs": [],
   "source": [
    "# Import library\n",
    "import numpy as np\n",
    "import sys\n",
    "import os\n",
    "import re\n",
    "import shutil\n",
    "import copy"
   ]
  },
  {
   "cell_type": "code",
   "execution_count": 80,
   "metadata": {},
   "outputs": [],
   "source": [
    "# /* Constant */\n",
    "AUTHENTIC_ORDER = 0\n",
    "REVERSE_ORDER = 1\n",
    "\n",
    "# Yukkuri Type\n",
    "ORIGINAL            = \"元祖　　　　: Original\"\n",
    "KITUNE              = \"きつね式　　: Kitune Type\"\n",
    "NEW_KITUNE          = \"新きつね式　: New Kitune Type\"\n",
    "FULL_BODY_KITUNE    = \"全身きつね式: Full body Kitune Type\"\n",
    "KAMUI               = \"神威式　　　: Kamui Type\"\n",
    "RAKUGAKI            = \"らくがき式　: Rakugaki Type\"\n",
    "WATASHI             = \"私式。　　　: Watashi Type\"\n",
    "PUNI                = \"ぷに式　　　: Puni Type\"\n",
    "QH                  = \"QH式　　　　: QH Type\"\n",
    "NININON             = \"弐ヶのん式　: Nininon Type\"\n",
    "TORIMISO            = \"とりみそ式　: ToriMiso Type\"\n",
    "MIKAN               = \"みかん式　　: Mikan Type\"\n",
    "KURO                = \"クロ式　　　: Kuro Type\"\n",
    "HACHI               = \"蜂旧式　　　: Hachi Type\"\n",
    "\n",
    "# Vector [eye, mouth]\n",
    "# [a: close, b, c: open] -> 0: 正順: 口\n",
    "# [a: open, b, c: close] -> 1: 逆順: 目\n",
    "ORIGINAL_VECTOR = np.array([REVERSE_ORDER, AUTHENTIC_ORDER], dtype=np.uint8)\n",
    "KITUNE_VECTOR = np.array([REVERSE_ORDER, AUTHENTIC_ORDER], dtype=np.uint8)\n",
    "NEW_KITUNE_VECTOR = np.array([REVERSE_ORDER, AUTHENTIC_ORDER], dtype=np.uint8) # special\n",
    "FULL_BODY_VECTOR = np.array([REVERSE_ORDER, AUTHENTIC_ORDER], dtype=np.uint8)\n",
    "KAMUI_VECTOR = np.array([REVERSE_ORDER, AUTHENTIC_ORDER], dtype=np.uint8)\n",
    "RAKUGAKI_VECTOR = np.array([REVERSE_ORDER, AUTHENTIC_ORDER], dtype=np.uint8)\n",
    "WATASHI_VECTOR = np.array([REVERSE_ORDER, AUTHENTIC_ORDER], dtype=np.uint8)\n",
    "PUNI_VECTOR = np.array([REVERSE_ORDER, AUTHENTIC_ORDER], dtype=np.uint8)\n",
    "QH_VECTOR = np.array([\n",
    "    REVERSE_ORDER, AUTHENTIC_ORDER, \n",
    "    REVERSE_ORDER, REVERSE_ORDER, \n",
    "    REVERSE_ORDER\n",
    "], dtype=np.uint8) # special\n",
    "NININON_VECTOR = np.array([REVERSE_ORDER, AUTHENTIC_ORDER], dtype=np.uint8)\n",
    "TORIMISO_VECTOR = np.array([REVERSE_ORDER, AUTHENTIC_ORDER], dtype=np.uint8)\n",
    "MIKAN_VECTOR = np.array([REVERSE_ORDER, AUTHENTIC_ORDER], dtype=np.uint8)\n",
    "KURO_VECTOR = np.array([REVERSE_ORDER, AUTHENTIC_ORDER], dtype=np.uint8)\n",
    "HACHI_VECTOR = np.array([REVERSE_ORDER, AUTHENTIC_ORDER], dtype=np.uint8)\n",
    "\n",
    "# List\n",
    "FOLDER_LIST = np.array([\"目\", \"口\"], dtype=object)\n",
    "FOLDER_LIST_NEW_KITUNE = np.array(\n",
    "    [os.path.join(name, num) for name in FOLDER_LIST for num in [\"00\", \"01\"]], dtype=object\n",
    ")\n",
    "FOLDER_LIST_QH = np.array([\"目\", \"口\", \"目-どんぐり目\", \"目-丸目\", \"目-瞳のある目\"], dtype=object)\n",
    "Y_TYPE_LIST = np.array([\n",
    "    ORIGINAL,\n",
    "    KITUNE,\n",
    "    NEW_KITUNE,\n",
    "    FULL_BODY_KITUNE,\n",
    "    KAMUI,\n",
    "    RAKUGAKI,\n",
    "    WATASHI,\n",
    "    PUNI,\n",
    "    QH, \n",
    "    NININON, \n",
    "    TORIMISO, \n",
    "    MIKAN, \n",
    "    KURO, \n",
    "    HACHI\n",
    "], dtype=object)\n",
    "\n",
    "# Dictionary\n",
    "Y_VECTOR_DICT = {\n",
    "    KAMUI: KAMUI_VECTOR,\n",
    "    RAKUGAKI: RAKUGAKI_VECTOR,\n",
    "    WATASHI: WATASHI_VECTOR, \n",
    "    NEW_KITUNE: NEW_KITUNE_VECTOR, \n",
    "    PUNI: PUNI_VECTOR,\n",
    "    KITUNE: KITUNE_VECTOR,\n",
    "    FULL_BODY_KITUNE: FULL_BODY_KITUNE,\n",
    "    ORIGINAL:ORIGINAL_VECTOR, \n",
    "    QH: QH_VECTOR, \n",
    "    NININON: NININON_VECTOR, \n",
    "    TORIMISO: TORIMISO_VECTOR, \n",
    "    MIKAN: MIKAN_VECTOR, \n",
    "    KURO: KURO_VECTOR, \n",
    "    HACHI: HACHI_VECTOR\n",
    "}"
   ]
  },
  {
   "cell_type": "code",
   "execution_count": 93,
   "metadata": {},
   "outputs": [],
   "source": [
    "# /* Class */\n",
    "class Converter:\n",
    "    def __init__(self, path, name, vector_arr, type):\n",
    "        self.type = type\n",
    "        self.path = path\n",
    "        self.name = name\n",
    "        self.vector_arr = vector_arr\n",
    "    \n",
    "    def folder_copy(self):\n",
    "        if self.type == NEW_KITUNE:\n",
    "            self.folder_copy_main(\n",
    "                path=self.path, name=self.path, \n",
    "                folder_list=FOLDER_LIST_NEW_KITUNE\n",
    "            )\n",
    "        elif self.type == QH:\n",
    "            self.folder_copy_main(\n",
    "                path=self.path, name=self.path, \n",
    "                folder_list=FOLDER_LIST_QH\n",
    "            )\n",
    "        else:\n",
    "            self.folder_copy_main(\n",
    "                path=self.path, name=self.path, \n",
    "                folder_list=FOLDER_LIST\n",
    "            )\n",
    "    \n",
    "    def folder_copy_main(self, path, name, folder_list):\n",
    "        folder_path = os.path.join(path, name)\n",
    "        new_folder_path = os.path.join(path, name+\"-YMM4\")\n",
    "        if os.path.isdir(new_folder_path):\n",
    "            shutil.rmtree(new_folder_path) # ディレクトリを中身ごと削除\n",
    "        shutil.copytree(\n",
    "            folder_path, new_folder_path, \n",
    "            ignore=shutil.ignore_patterns(*folder_list), dirs_exist_ok=True\n",
    "        )\n",
    "    \n",
    "    def convert(self):\n",
    "        print(\"改名を開始します．\\nStart renaming.\")\n",
    "        if self.type == NEW_KITUNE:\n",
    "            self.convert_name(\n",
    "                path=self.path, name=self.name, \n",
    "                vector_arr=self.vector_arr, folder_list=FOLDER_LIST_NEW_KITUNE\n",
    "            )\n",
    "        elif self.type == QH:\n",
    "            self.convert_name(\n",
    "                path=self.path, name=self.name, \n",
    "                vector_arr=self.vector_arr, folder_list=FOLDER_LIST_QH\n",
    "            )\n",
    "        else:\n",
    "            self.convert_name(\n",
    "                path=self.path, name=self.name, \n",
    "                vector_arr=self.vector_arr, folder_list=FOLDER_LIST\n",
    "            )\n",
    "        print(\"改名完了\\nRenaming completed.\")\n",
    "    \n",
    "    def convert_name(self, path, name, vector_arr, folder_list):\n",
    "        original_name = copy.copy(name)\n",
    "        for folder_name, vector in zip(folder_list, vector_arr):\n",
    "            target_path = os.path.join(path, folder_name)\n",
    "            new_folder_path = target_path.replace(original_name, original_name+\"-YMM4\")\n",
    "            # 改変後のフォルダー作成\n",
    "            if os.path.isdir(new_folder_path):\n",
    "                shutil.rmtree(new_folder_path) # ディレクトリを中身ごと削除\n",
    "            elif not os.path.isdir(new_folder_path):\n",
    "                os.makedirs(new_folder_path) # ディレクトリの作成\n",
    "            # ファイル名読込\n",
    "            files = os.listdir(target_path)\n",
    "            files = np.array(files, dtype=object)\n",
    "            # 重複ナンバー抽出　例：[\"01a\", \"01b\", \"02a\", \"02b\"] -> [\"01\", \"02\"]\n",
    "            num_arr = np.array([], dtype=object)\n",
    "            for file in files:\n",
    "                num_str = re.sub(r\"\\D\", \"\", file)\n",
    "                num_arr = np.append(num_str, num_arr)\n",
    "            num_arr = np.unique(num_arr) # 重複した要素の削除\n",
    "        # リネーム\n",
    "            for target_num in num_arr:\n",
    "                # EX. [\"01a\", \"01b\", \"02a\", \"02b\"] -> [\"01a\", \"01b\"]\n",
    "                convert_list = [ s for s in files if re.sub(r\"\\D\", \"\", s)==target_num ]\n",
    "                convert_arr = np.array(convert_list, dtype=object)\n",
    "                # 順番入れ替え\n",
    "                if vector == AUTHENTIC_ORDER:\n",
    "                    convert_arr = np.hstack( (convert_arr[-1], convert_arr[:-1]) )\n",
    "                elif vector == REVERSE_ORDER:\n",
    "                    c_arr = np.flip(convert_arr[1:])\n",
    "                    convert_arr = np.hstack( (convert_arr[0], c_arr) )\n",
    "                for i, file in enumerate(convert_arr):\n",
    "                    ext = os.path.splitext(file)[1] # 拡張子抽出\n",
    "                    before_path = os.path.join(target_path, file)\n",
    "                    if i == 0:\n",
    "                        rename = target_num+ext # 改変後の名前\n",
    "                        after_path = os.path.join(new_folder_path, rename)\n",
    "                    elif i != 0:\n",
    "                        rename = target_num+\".\"+str(i-1)+ext # 改変後の名前\n",
    "                        after_path = os.path.join(new_folder_path, rename)\n",
    "                    shutil.copy2(before_path, after_path) # Copy file"
   ]
  },
  {
   "cell_type": "code",
   "execution_count": 94,
   "metadata": {},
   "outputs": [],
   "source": [
    "# /* Function */\n",
    "# Do not use.\n",
    "def get_dir_path(relative_path):\n",
    "    try:\n",
    "        base_path = sys._MEIPASS\n",
    "        #print(\"[Base Path (get from sys)]\" + base_path)\n",
    "    except Exception:\n",
    "        base_path = os.path.dirname(\"__file__\")\n",
    "        #print(\"[Base Path (get from sys)]\" + base_path)\n",
    "    return os.path.join(base_path, relative_path)\n",
    "\n",
    "def get_folder_name(path):\n",
    "    files = os.listdir(path)\n",
    "    files_dir = [f for f in files if os.path.isdir(os.path.join(path, f))]\n",
    "    files_dir = np.array(files_dir, dtype=object)\n",
    "    return files_dir\n",
    "\n",
    "def select_folder(folders):\n",
    "    print(\"YMM4 に対応させるフォルダ名を選んでください．\")\n",
    "    print(\"Select the folder name that corresponds to YMM4.\")\n",
    "    for i in range(len(folders)):\n",
    "        print(\"0\"+str(i)+\": \"+folders[i])\n",
    "    folder_str = input(\"\\n数字を入力して下さい．\\nPlease enter a number.\\nEx. 1 or 01: \")\n",
    "    is_number(string=folder_str)\n",
    "    folder_n = int(folder_str)\n",
    "    is_corresponding_number(target=folder_n, search_arr=folders)\n",
    "    print(\"[\"+folders[folder_n]+\"] を選択しました．\\n\")\n",
    "    \n",
    "    return folders[folder_n]\n",
    "\n",
    "def is_number(string):\n",
    "    if( not string.isdigit() ):\n",
    "        print(\"入力に文字が検出されました．\")\n",
    "        print(\"数字のみを入力してください．\")\n",
    "        print(\"A character was detected in the input.\")\n",
    "        print(\"Please enter numbers only.\")\n",
    "        \n",
    "        input(\"\\nPress any key to exit.\")\n",
    "        \n",
    "        sys.exit()\n",
    "\n",
    "def is_corresponding_number(target, search_arr):\n",
    "    if ( not target in range(len(search_arr))):\n",
    "        print(\"対応されていない数字が入力されました．\")\n",
    "        print(\"対応する数字を入力してください．\")\n",
    "        print(\"An unsupported number has been entered.\")\n",
    "        print(\"Please enter the corresponding number.\")\n",
    "        \n",
    "        input(\"\\nPress any key to exit.\")\n",
    "        \n",
    "        sys.exit()\n",
    "\n",
    "# Do not use.\n",
    "def select_direction():\n",
    "    print(\"目や口が開いている方向を選んでください．\")\n",
    "    print(\"Choose the direction in which the eyes and mouth are open.\")\n",
    "    print(\"\\nEx. [a: close, b, c: open] -> 0: 正順\")\n",
    "    print(\"    [a: open, b, c: close] -> 1: 逆順\\n\")\n",
    "    # 目\n",
    "    eye_n = input(\"目の数字を入力して下さい．\")\n",
    "    is_number(string=eye_n)\n",
    "    eye_n = int(eye_n)\n",
    "    is_corresponding_number(target=eye_n, search_arr=np.arange(2))\n",
    "    if eye_n == AUTHENTIC_ORDER:\n",
    "        print(\"目は [0: 正順] で改名します．\")\n",
    "    elif eye_n == REVERSE_ORDER:\n",
    "        print(\"目は [1: 逆順] で改名します．\")\n",
    "    # 口\n",
    "    mouth_n = input(\"口の数字を入力して下さい．\")\n",
    "    is_number(string=mouth_n)\n",
    "    mouth_n = int(mouth_n)\n",
    "    is_corresponding_number(target=mouth_n, search_arr=np.arange(2))\n",
    "    if mouth_n == AUTHENTIC_ORDER:\n",
    "        print(\"口は [0: 正順] で改名します．\")\n",
    "    elif mouth_n == REVERSE_ORDER:\n",
    "        print(\"口は [1: 逆順] で改名します．\")\n",
    "    \n",
    "    dir_arr = np.array([eye_n, mouth_n], dtype=uint8)\n",
    "    \n",
    "    return dir_arr\n",
    "\n",
    "def convert_name(path, name, vector_arr):\n",
    "    print(\"改名を開始します．\\nStart renaming.\")\n",
    "    original_name = copy.copy(name)\n",
    "    for folder_name, vector in zip(FOLDER_LIST, vector_arr):\n",
    "        target_path = os.path.join(path, folder_name)\n",
    "        new_folder_path = target_path.replace(original_name, original_name+\"-YMM4\")\n",
    "        print(\"original: \"+original_name)\n",
    "        print(new_folder_path)\n",
    "        # 改変後のフォルダー作成\n",
    "        if os.path.isdir(new_folder_path):\n",
    "            shutil.rmtree(new_folder_path) # ディレクトリを中身ごと削除\n",
    "        elif not os.path.isdir(new_folder_path):\n",
    "            os.mkdir(new_folder_path) # ディレクトリの作成\n",
    "        # ファイル名読込\n",
    "        files = os.listdir(target_path)\n",
    "        #files_file = [f for f in files if os.path.isfile(os.path.join(path, f))]\n",
    "        files = np.array(files, dtype=object)\n",
    "        #print(files)\n",
    "        # 重複ナンバー抽出　例：[\"01a\", \"01b\", \"02a\", \"02b\"] -> [\"01\", \"02\"]\n",
    "        num_arr = np.array([], dtype=object)\n",
    "        for file in files:\n",
    "            num_str = re.sub(r\"\\D\", \"\", file)\n",
    "            num_arr = np.append(num_str, num_arr)\n",
    "        num_arr = np.unique(num_arr) # 重複した要素の削除\n",
    "        #print(num_arr)\n",
    "        # リネーム\n",
    "        for target_num in num_arr:\n",
    "            # EX. [\"01a\", \"01b\", \"02a\", \"02b\"] -> [\"01a\", \"01b\"]\n",
    "            convert_list = [ s for s in files if re.sub(r\"\\D\", \"\", s)==target_num ]\n",
    "            convert_arr = np.array(convert_list, dtype=object)\n",
    "            # 単一のファイルならブレイク\n",
    "            #if len(convert_arr) == 1:\n",
    "            #    break\n",
    "            # 順番入れ替え\n",
    "            if vector == AUTHENTIC_ORDER:\n",
    "                convert_arr = np.hstack( (convert_arr[-1], convert_arr[:-1]) )\n",
    "            elif vector == REVERSE_ORDER:\n",
    "                c_arr = np.flip(convert_arr[1:])\n",
    "                convert_arr = np.hstack( (convert_arr[0], c_arr) )\n",
    "            for i, file in enumerate(convert_arr):\n",
    "                ext = os.path.splitext(file)[1] # 拡張子抽出\n",
    "                before_path = os.path.join(target_path, file)\n",
    "                if i == 0:\n",
    "                    rename = target_num+ext # 改変後の名前\n",
    "                    after_path = os.path.join(new_folder_path, rename)\n",
    "                elif i != 0:\n",
    "                    rename = target_num+\".\"+str(i-1)+ext # 改変後の名前\n",
    "                    after_path = os.path.join(new_folder_path, rename)\n",
    "                \n",
    "                #print(\"before: \"+before_path)\n",
    "                #print(\"after : \"+after_path)\n",
    "                #os.rename(before_path, after_path)\n",
    "                shutil.copy2(before_path, after_path)\n",
    "    print(\"改名完了\\nRenaming completed.\")\n",
    "\n",
    "def select_type():\n",
    "    print(\"改名するゆっくりのタイプを選択してください．\")\n",
    "    print(\"Select the Yukkuri type of renaming.\\n\")\n",
    "    for i, yukkuri in enumerate(Y_TYPE_LIST):\n",
    "        print(\"0\"+str(i)+\": \"+yukkuri)\n",
    "    y_str = input(\"\\n数字を入力して下さい．\\nPlease enter a number.\\nEx. 1 or 01: \")\n",
    "    is_number(string=y_str)\n",
    "    y_num = int(y_str)\n",
    "    is_corresponding_number(target=y_num, search_arr=Y_TYPE_LIST)\n",
    "    type_result = Y_TYPE_LIST[y_num].replace(\"　\", \"\")\n",
    "    print(\"[\"+type_result+\"] を選択しました．\\n\")\n",
    "    vector = Y_VECTOR_DICT[Y_TYPE_LIST[y_num]]\n",
    "    return (vector, Y_TYPE_LIST[y_num])\n",
    "\n",
    "# Do not use.\n",
    "def folder_copy(path, name):\n",
    "    folder_path = os.path.join(path, name)\n",
    "    new_folder_path = os.path.join(path, name+\"-YMM4\")\n",
    "    if os.path.isdir(new_folder_path):\n",
    "        shutil.rmtree(new_folder_path) # ディレクトリを中身ごと削除\n",
    "    shutil.copytree(\n",
    "        folder_path, new_folder_path, \n",
    "        ignore=shutil.ignore_patterns(FOLDER_LIST[0], FOLDER_LIST[1]), dirs_exist_ok=True\n",
    "    )\n",
    "\n",
    "def main():\n",
    "    # 現在のディレクトリ取得\n",
    "    cur_path = os.getcwd()\n",
    "    print(\"Current directory: \"+cur_path+\"\\n\")\n",
    "    # 改名するフォルダの選択\n",
    "    folders = get_folder_name(path=cur_path)\n",
    "    folder_name = select_folder(folders=folders)\n",
    "    folder_path = os.path.join(cur_path, folder_name)\n",
    "    # ゆっくりのタイプ選択\n",
    "    vector_arr, y_type = select_type()\n",
    "    # 改名処理\n",
    "    #dir_arr = select_direction()\n",
    "    converter = Converter(type=y_type, path=folder_path, name=folder_name, vector_arr=vector_arr)\n",
    "    converter.folder_copy()\n",
    "    #folder_copy(path=cur_path, name=folder_name)\n",
    "    #convert_name(path=folder_path, name=folder_name, vector_arr=vector_arr)\n",
    "    converter.convert()"
   ]
  },
  {
   "cell_type": "code",
   "execution_count": 95,
   "metadata": {},
   "outputs": [
    {
     "name": "stdout",
     "output_type": "stream",
     "text": [
      "Current directory: d:\\GitHub-Home\\00-JupyterHome\\2021\\Y3toY4-name-converter\n",
      "\n",
      "YMM4 に対応させるフォルダ名を選んでください．\n",
      "Select the folder name that corresponds to YMM4.\n",
      "00: QH式博麗霊夢\n",
      "01: Reference\n",
      "02: Resource\n",
      "03: きつね式ずんこさん\n",
      "04: きつね式せいじゃ\n",
      "05: きつね式せいじゃ-YMM4\n",
      "06: とりみそ式霊夢\n",
      "07: ぷにちるの\n",
      "08: みかん式ゆっくりアリス\n",
      "09: ゆっくり霊夢改\n",
      "010: らくがき式霊夢\n",
      "011: クロ式結月ゆかり\n",
      "012: 弐ヶのん式霊夢\n",
      "013: 新きつね式ありす\n",
      "014: 旧作霊夢\n",
      "015: 神威式霊夢\n",
      "016: 私式。霊夢\n",
      "[きつね式せいじゃ] を選択しました．\n",
      "\n",
      "改名するゆっくりのタイプを選択してください．\n",
      "Select the Yukkuri type of renaming.\n",
      "\n",
      "00: 元祖　　　　: Original\n",
      "01: きつね式　　: Kitune Type\n",
      "02: 新きつね式　: New Kitune Type\n",
      "03: 全身きつね式: Full body Kitune Type\n",
      "04: 神威式　　　: Kamui Type\n",
      "05: らくがき式　: Rakugaki Type\n",
      "06: 私式。　　　: Watashi Type\n",
      "07: ぷに式　　　: Puni Type\n",
      "08: QH式　　　　: QH Type\n",
      "09: 弐ヶのん式　: Nininon Type\n",
      "010: とりみそ式　: ToriMiso Type\n",
      "011: みかん式　　: Mikan Type\n",
      "012: クロ式　　　: Kuro Type\n",
      "013: 蜂旧式　　　: Hachi Type\n",
      "[きつね式: Kitune Type] を選択しました．\n",
      "\n",
      "改名を開始します．\n",
      "Start renaming.\n",
      "改名完了\n",
      "Renaming completed.\n"
     ]
    }
   ],
   "source": [
    "if __name__ == '__main__':\n",
    "    main()"
   ]
  },
  {
   "cell_type": "code",
   "execution_count": null,
   "metadata": {},
   "outputs": [],
   "source": []
  },
  {
   "cell_type": "code",
   "execution_count": 18,
   "metadata": {},
   "outputs": [
    {
     "data": {
      "text/plain": [
       "'01'"
      ]
     },
     "execution_count": 18,
     "metadata": {},
     "output_type": "execute_result"
    }
   ],
   "source": [
    "input(\"数字を入力して下さい　Ex. 1 or 01\")"
   ]
  },
  {
   "cell_type": "code",
   "execution_count": 23,
   "metadata": {},
   "outputs": [
    {
     "data": {
      "text/plain": [
       "array([0, 1])"
      ]
     },
     "execution_count": 23,
     "metadata": {},
     "output_type": "execute_result"
    }
   ],
   "source": [
    "np.arange(2)"
   ]
  },
  {
   "cell_type": "code",
   "execution_count": 41,
   "metadata": {},
   "outputs": [
    {
     "ename": "AttributeError",
     "evalue": "'numpy.ndarray' object has no attribute 'splitlines'",
     "output_type": "error",
     "traceback": [
      "\u001b[1;31m---------------------------------------------------------------------------\u001b[0m",
      "\u001b[1;31mAttributeError\u001b[0m                            Traceback (most recent call last)",
      "\u001b[1;32m<ipython-input-41-a1e6d23958a1>\u001b[0m in \u001b[0;36m<module>\u001b[1;34m\u001b[0m\n\u001b[0;32m      3\u001b[0m \u001b[0mregex\u001b[0m \u001b[1;33m=\u001b[0m \u001b[0mre\u001b[0m\u001b[1;33m.\u001b[0m\u001b[0mcompile\u001b[0m\u001b[1;33m(\u001b[0m\u001b[1;34m'd+'\u001b[0m\u001b[1;33m)\u001b[0m\u001b[1;33m\u001b[0m\u001b[1;33m\u001b[0m\u001b[0m\n\u001b[0;32m      4\u001b[0m \u001b[1;33m\u001b[0m\u001b[0m\n\u001b[1;32m----> 5\u001b[1;33m \u001b[1;32mfor\u001b[0m \u001b[0mline\u001b[0m \u001b[1;32min\u001b[0m \u001b[0msample_text\u001b[0m\u001b[1;33m.\u001b[0m\u001b[0msplitlines\u001b[0m\u001b[1;33m(\u001b[0m\u001b[1;33m)\u001b[0m\u001b[1;33m:\u001b[0m\u001b[1;33m\u001b[0m\u001b[1;33m\u001b[0m\u001b[0m\n\u001b[0m\u001b[0;32m      6\u001b[0m   \u001b[0mmatch\u001b[0m \u001b[1;33m=\u001b[0m \u001b[0mregex\u001b[0m\u001b[1;33m.\u001b[0m\u001b[0mfindall\u001b[0m\u001b[1;33m(\u001b[0m\u001b[0mline\u001b[0m\u001b[1;33m)\u001b[0m\u001b[1;33m\u001b[0m\u001b[1;33m\u001b[0m\u001b[0m\n\u001b[0;32m      7\u001b[0m   \u001b[0mprint\u001b[0m\u001b[1;33m(\u001b[0m\u001b[0mmatch\u001b[0m\u001b[1;33m)\u001b[0m\u001b[1;33m\u001b[0m\u001b[1;33m\u001b[0m\u001b[0m\n",
      "\u001b[1;31mAttributeError\u001b[0m: 'numpy.ndarray' object has no attribute 'splitlines'"
     ]
    }
   ],
   "source": [
    "sample_text = np.array([\"01a.png\", \"01b.png\", \"01c.png\", \"02.png\"], dtype=np.object)\n",
    "\n",
    "regex = re.compile('d+')\n",
    "\n",
    "for line in sample_text.splitlines():\n",
    "  match = regex.findall(line)\n",
    "  print(match)"
   ]
  },
  {
   "cell_type": "code",
   "execution_count": 57,
   "metadata": {},
   "outputs": [
    {
     "data": {
      "text/plain": [
       "array(['02.png', '01c.png', '01b.png', '01a.png'], dtype=object)"
      ]
     },
     "execution_count": 57,
     "metadata": {},
     "output_type": "execute_result"
    }
   ],
   "source": [
    "num_arr = np.array([\"01a.png\", \"01b.png\", \"01c.png\", \"02.png\"], dtype=np.object)\n",
    "#[ s for s in num_arr if re.sub(r\"\\D\", \"\", s)==\"01\" ]\n",
    "num_arr = np.flip(num_arr)\n",
    "num_arr"
   ]
  },
  {
   "cell_type": "code",
   "execution_count": 60,
   "metadata": {},
   "outputs": [
    {
     "data": {
      "text/plain": [
       "'.png'"
      ]
     },
     "execution_count": 60,
     "metadata": {},
     "output_type": "execute_result"
    }
   ],
   "source": [
    "os.path.splitext(num_arr[0])[1]"
   ]
  },
  {
   "cell_type": "code",
   "execution_count": 73,
   "metadata": {},
   "outputs": [
    {
     "data": {
      "text/plain": [
       "array([0, 1])"
      ]
     },
     "execution_count": 73,
     "metadata": {},
     "output_type": "execute_result"
    }
   ],
   "source": [
    "np.arange(2)"
   ]
  },
  {
   "cell_type": "code",
   "execution_count": 78,
   "metadata": {},
   "outputs": [
    {
     "data": {
      "text/plain": [
       "array(['02.png', '01c.png', '01b.png'], dtype=object)"
      ]
     },
     "execution_count": 78,
     "metadata": {},
     "output_type": "execute_result"
    }
   ],
   "source": [
    "num_arr[:-1]"
   ]
  },
  {
   "cell_type": "code",
   "execution_count": 79,
   "metadata": {},
   "outputs": [
    {
     "data": {
      "text/plain": [
       "array(['01a.png', '02.png', '01c.png', '01b.png'], dtype=object)"
      ]
     },
     "execution_count": 79,
     "metadata": {},
     "output_type": "execute_result"
    }
   ],
   "source": [
    "np.hstack((num_arr[-1], num_arr[:-1]))"
   ]
  },
  {
   "cell_type": "code",
   "execution_count": 107,
   "metadata": {},
   "outputs": [
    {
     "data": {
      "text/plain": [
       "'0715'"
      ]
     },
     "execution_count": 107,
     "metadata": {},
     "output_type": "execute_result"
    }
   ],
   "source": [
    "a = \"07a-15\"\n",
    "re.sub(r\"\\D{2}\", \"\", a)"
   ]
  },
  {
   "cell_type": "code",
   "execution_count": 114,
   "metadata": {},
   "outputs": [
    {
     "data": {
      "text/plain": [
       "['00.png',\n",
       " '00a.png',\n",
       " '00b.png',\n",
       " '00c.png',\n",
       " '00d.png',\n",
       " '00e.png',\n",
       " '01.png',\n",
       " '01a.png',\n",
       " '01b.png',\n",
       " '01c.png',\n",
       " '01d.png',\n",
       " '01e.png',\n",
       " '02.png',\n",
       " '02a.png',\n",
       " '02b.png',\n",
       " '02c.png',\n",
       " '02d.png',\n",
       " '02e.png',\n",
       " '03.png',\n",
       " '03a.png',\n",
       " '03b.png',\n",
       " '03c.png',\n",
       " '03d.png',\n",
       " '03e.png',\n",
       " '04.png',\n",
       " '04a.png',\n",
       " '04b.png',\n",
       " '04c.png',\n",
       " '04d.png',\n",
       " '04e.png',\n",
       " '05.png',\n",
       " '05a.png',\n",
       " '05b.png',\n",
       " '05c.png',\n",
       " '05d.png',\n",
       " '05e.png',\n",
       " '06.png',\n",
       " '06a.png',\n",
       " '06b.png',\n",
       " '06c.png',\n",
       " '06d.png',\n",
       " '06e.png',\n",
       " '07-15.png',\n",
       " '07a-15.png',\n",
       " '07b-15.png',\n",
       " '07c-15.png',\n",
       " '07d-15.png',\n",
       " '07e-15.png',\n",
       " '08-15.png',\n",
       " '08a-15.png',\n",
       " '08b-15.png',\n",
       " '08c-15.png',\n",
       " '08d-15.png',\n",
       " '08e-15.png',\n",
       " '09-15.png',\n",
       " '09a-15.png',\n",
       " '09b-15.png',\n",
       " '09c-15.png',\n",
       " '09d-15.png',\n",
       " '09e-15.png',\n",
       " '10.png',\n",
       " '10k.png',\n",
       " '10l.png',\n",
       " '10m.png',\n",
       " '10n.png',\n",
       " '10o.png',\n",
       " '11.png',\n",
       " '11k.png',\n",
       " '11l.png',\n",
       " '11m.png',\n",
       " '11n.png',\n",
       " '11o.png',\n",
       " '12.png',\n",
       " '12k.png',\n",
       " '12l.png',\n",
       " '12m.png',\n",
       " '12n.png',\n",
       " '12o.png',\n",
       " '13.png',\n",
       " '13k.png',\n",
       " '13l.png',\n",
       " '13m.png',\n",
       " '13n.png',\n",
       " '13o.png',\n",
       " '14.png',\n",
       " '14a.png',\n",
       " '14b.png',\n",
       " '14c.png',\n",
       " '14d.png',\n",
       " '14e.png',\n",
       " '15.png',\n",
       " '15a.png',\n",
       " '15b.png',\n",
       " '15c.png',\n",
       " '15d.png',\n",
       " '15e.png',\n",
       " '16.png',\n",
       " '16a.png',\n",
       " '16b.png',\n",
       " '16c.png',\n",
       " '16d.png',\n",
       " '16e.png',\n",
       " '17.png',\n",
       " '17a.png',\n",
       " '17b.png',\n",
       " '17c.png',\n",
       " '17d.png',\n",
       " '17e.png',\n",
       " '18-15.png',\n",
       " '18a-15.png',\n",
       " '18b-15.png',\n",
       " '18c-15.png',\n",
       " '18d-15.png',\n",
       " '18e-15.png',\n",
       " '19.png',\n",
       " '20.png',\n",
       " '21.png',\n",
       " '22.png',\n",
       " '23z.png',\n",
       " '24.png',\n",
       " '25.png',\n",
       " '26.png',\n",
       " '27.png',\n",
       " '28.png',\n",
       " '29.png',\n",
       " '30.png',\n",
       " '31.png',\n",
       " '32.png',\n",
       " '33.png',\n",
       " '34z.png',\n",
       " '35.png',\n",
       " '36.png',\n",
       " '37.png']"
      ]
     },
     "execution_count": 114,
     "metadata": {},
     "output_type": "execute_result"
    }
   ],
   "source": [
    "os.listdir(r\"D:\\GitHub-Home\\00-JupyterHome\\2021\\Y3toY4-name-converter\\きつね式せいじゃ\\目\")"
   ]
  },
  {
   "cell_type": "code",
   "execution_count": 129,
   "metadata": {},
   "outputs": [
    {
     "data": {
      "text/plain": [
       "'[きつね式：Kitune Type]'"
      ]
     },
     "execution_count": 129,
     "metadata": {},
     "output_type": "execute_result"
    }
   ],
   "source": [
    "\"[きつね式　　：Kitune Type]\".replace(\"　\", \"\")"
   ]
  },
  {
   "cell_type": "code",
   "execution_count": 17,
   "metadata": {},
   "outputs": [],
   "source": [
    "folder_copy(path=os.getcwd(), name=\"aaa\")"
   ]
  },
  {
   "cell_type": "markdown",
   "metadata": {},
   "source": []
  },
  {
   "cell_type": "code",
   "execution_count": 5,
   "metadata": {},
   "outputs": [
    {
     "ename": "NameError",
     "evalue": "name 'python' is not defined",
     "output_type": "error",
     "traceback": [
      "\u001b[1;31m---------------------------------------------------------------------------\u001b[0m",
      "\u001b[1;31mNameError\u001b[0m                                 Traceback (most recent call last)",
      "\u001b[1;32mC:\\Users\\G6704~1.YAM\\AppData\\Local\\Temp/ipykernel_8612/1576056767.py\u001b[0m in \u001b[0;36m<module>\u001b[1;34m\u001b[0m\n\u001b[1;32m----> 1\u001b[1;33m \u001b[0mpython\u001b[0m \u001b[1;33m-\u001b[0m\u001b[1;33m-\u001b[0m\u001b[0mversion\u001b[0m\u001b[1;33m\u001b[0m\u001b[1;33m\u001b[0m\u001b[0m\n\u001b[0m",
      "\u001b[1;31mNameError\u001b[0m: name 'python' is not defined"
     ]
    }
   ],
   "source": [
    "python --version"
   ]
  },
  {
   "cell_type": "code",
   "execution_count": 11,
   "metadata": {},
   "outputs": [
    {
     "data": {
      "text/plain": [
       "['目', '口']"
      ]
     },
     "execution_count": 11,
     "metadata": {},
     "output_type": "execute_result"
    }
   ],
   "source": [
    "FOLDER_LIST.tolist()"
   ]
  },
  {
   "cell_type": "code",
   "execution_count": 53,
   "metadata": {},
   "outputs": [
    {
     "data": {
      "text/plain": [
       "array([0, 1, 2, 3])"
      ]
     },
     "execution_count": 53,
     "metadata": {},
     "output_type": "execute_result"
    }
   ],
   "source": [
    "a = np.arange(4)\n",
    "a"
   ]
  },
  {
   "cell_type": "code",
   "execution_count": 54,
   "metadata": {},
   "outputs": [
    {
     "data": {
      "text/plain": [
       "array([1, 2, 3])"
      ]
     },
     "execution_count": 54,
     "metadata": {},
     "output_type": "execute_result"
    }
   ],
   "source": [
    "a[1:]"
   ]
  },
  {
   "cell_type": "code",
   "execution_count": 70,
   "metadata": {},
   "outputs": [
    {
     "data": {
      "text/plain": [
       "'a\\\\ppp'"
      ]
     },
     "execution_count": 70,
     "metadata": {},
     "output_type": "execute_result"
    }
   ],
   "source": [
    "os.path.join(\"a\", \"ppp\")"
   ]
  },
  {
   "cell_type": "code",
   "execution_count": 76,
   "metadata": {},
   "outputs": [
    {
     "data": {
      "text/plain": [
       "['目\\\\aaa', '目\\\\bbb', '口\\\\aaa', '口\\\\bbb']"
      ]
     },
     "execution_count": 76,
     "metadata": {},
     "output_type": "execute_result"
    }
   ],
   "source": [
    "[os.path.join(p_up, p_down) for p_up in [\"目\", \"口\"] for p_down in [\"aaa\", \"bbb\"]]"
   ]
  },
  {
   "cell_type": "code",
   "execution_count": 77,
   "metadata": {},
   "outputs": [],
   "source": [
    "aa, bb = (0, 1)"
   ]
  },
  {
   "cell_type": "code",
   "execution_count": 78,
   "metadata": {},
   "outputs": [
    {
     "name": "stdout",
     "output_type": "stream",
     "text": [
      "0 1\n"
     ]
    }
   ],
   "source": [
    "print(aa, bb)"
   ]
  },
  {
   "cell_type": "code",
   "execution_count": 98,
   "metadata": {},
   "outputs": [
    {
     "ename": "SyntaxError",
     "evalue": "can't use starred expression here (Temp/ipykernel_8612/2687076090.py, line 1)",
     "output_type": "error",
     "traceback": [
      "\u001b[1;36m  File \u001b[1;32m\"C:\\Users\\G6704~1.YAM\\AppData\\Local\\Temp/ipykernel_8612/2687076090.py\"\u001b[1;36m, line \u001b[1;32m1\u001b[0m\n\u001b[1;33m    *[os.path.join(p_up, p_down) for p_up in [\"目\", \"口\"] for p_down in [\"aaa\", \"bbb\"]]\u001b[0m\n\u001b[1;37m    ^\u001b[0m\n\u001b[1;31mSyntaxError\u001b[0m\u001b[1;31m:\u001b[0m can't use starred expression here\n"
     ]
    }
   ],
   "source": [
    "*[os.path.join(p_up, p_down) for p_up in [\"目\", \"口\"] for p_down in [\"aaa\", \"bbb\"]]"
   ]
  },
  {
   "cell_type": "code",
   "execution_count": null,
   "metadata": {},
   "outputs": [],
   "source": []
  }
 ],
 "metadata": {
  "interpreter": {
   "hash": "14f7ffddf41539a579bdbc0480ee5ff3b64a6200aeb8f4dba6bae466e76fe9ad"
  },
  "kernelspec": {
   "display_name": "Python 3.7.7 64-bit ('eeg-ana': conda)",
   "language": "python",
   "name": "python3"
  },
  "language_info": {
   "codemirror_mode": {
    "name": "ipython",
    "version": 3
   },
   "file_extension": ".py",
   "mimetype": "text/x-python",
   "name": "python",
   "nbconvert_exporter": "python",
   "pygments_lexer": "ipython3",
   "version": "3.8.10"
  },
  "orig_nbformat": 4
 },
 "nbformat": 4,
 "nbformat_minor": 2
}
